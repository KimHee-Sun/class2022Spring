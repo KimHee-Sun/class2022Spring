{
  "nbformat": 4,
  "nbformat_minor": 0,
  "metadata": {
    "colab": {
      "name": "20220316.ipynb",
      "provenance": [],
      "collapsed_sections": [],
      "authorship_tag": "ABX9TyPMkuLCOGnYxw6t97c3IdhQ",
      "include_colab_link": true
    },
    "kernelspec": {
      "name": "python3",
      "display_name": "Python 3"
    },
    "language_info": {
      "name": "python"
    }
  },
  "cells": [
    {
      "cell_type": "markdown",
      "metadata": {
        "id": "view-in-github",
        "colab_type": "text"
      },
      "source": [
        "<a href=\"https://colab.research.google.com/github/KimHee-Sun/class2022Spring/blob/main/20220316.ipynb\" target=\"_parent\"><img src=\"https://colab.research.google.com/assets/colab-badge.svg\" alt=\"Open In Colab\"/></a>"
      ]
    },
    {
      "cell_type": "markdown",
      "source": [
        "# string"
      ],
      "metadata": {
        "id": "ECcUcz39OOd5"
      }
    },
    {
      "cell_type": "code",
      "execution_count": null,
      "metadata": {
        "colab": {
          "base_uri": "https://localhost:8080/"
        },
        "id": "Qc8mettc7Zhw",
        "outputId": "184d5ad1-67ca-41f2-d0dd-e35d902bc6af"
      },
      "outputs": [
        {
          "output_type": "stream",
          "name": "stdout",
          "text": [
            "a f f a\n",
            "bc bcdef abc abcdef\n"
          ]
        }
      ],
      "source": [
        "s= 'abcdef'\n",
        "print(s[0], s[5], s[-1], s[-6])\n",
        "print(s[1:3], s[1:], s[:3], s[:])"
      ]
    },
    {
      "cell_type": "markdown",
      "source": [
        "* 순서: 0번째부터 시작, -는 0번째 기준으로 back\n",
        "* 콜론: 모두 출력함을 의미, [1:3]은 콜론의 왼쪽에서 콜론 오른쪽 -1까지 출력"
      ],
      "metadata": {
        "id": "O342nTtA7-Um"
      }
    },
    {
      "cell_type": "code",
      "source": [
        "len(s)"
      ],
      "metadata": {
        "colab": {
          "base_uri": "https://localhost:8080/"
        },
        "id": "qh7pvOX08jFa",
        "outputId": "e992f036-597a-46ec-a4c9-cdffec6bd6aa"
      },
      "execution_count": null,
      "outputs": [
        {
          "output_type": "execute_result",
          "data": {
            "text/plain": [
              "6"
            ]
          },
          "metadata": {},
          "execution_count": 4
        }
      ]
    },
    {
      "cell_type": "markdown",
      "source": [
        "* len 함수는 길이를 세는 함수"
      ],
      "metadata": {
        "id": "GGWPzcAK8mLA"
      }
    },
    {
      "cell_type": "code",
      "source": [
        "s[1]+s[3]+s[4:]*10"
      ],
      "metadata": {
        "colab": {
          "base_uri": "https://localhost:8080/",
          "height": 35
        },
        "id": "EpPHVfgt-5bZ",
        "outputId": "72cad31b-f6f1-4fc8-c82f-ef5b24f1b45c"
      },
      "execution_count": null,
      "outputs": [
        {
          "output_type": "execute_result",
          "data": {
            "text/plain": [
              "'bdefefefefefefefefefef'"
            ],
            "application/vnd.google.colaboratory.intrinsic+json": {
              "type": "string"
            }
          },
          "metadata": {},
          "execution_count": 5
        }
      ]
    },
    {
      "cell_type": "markdown",
      "source": [
        "* string에도 +기호를 사용할 수 있음, ef를 10번 반복하라는 의미"
      ],
      "metadata": {
        "id": "mm-239sP--1c"
      }
    },
    {
      "cell_type": "code",
      "source": [
        "s.upper()"
      ],
      "metadata": {
        "colab": {
          "base_uri": "https://localhost:8080/",
          "height": 35
        },
        "id": "mtNKXn5y_DZD",
        "outputId": "3e7dd697-d2ea-4687-c766-4f63b8770f13"
      },
      "execution_count": null,
      "outputs": [
        {
          "output_type": "execute_result",
          "data": {
            "text/plain": [
              "'ABCDEF'"
            ],
            "application/vnd.google.colaboratory.intrinsic+json": {
              "type": "string"
            }
          },
          "metadata": {},
          "execution_count": 6
        }
      ]
    },
    {
      "cell_type": "markdown",
      "source": [
        "* 대문자로 변환해주는 함수"
      ],
      "metadata": {
        "id": "b5VyUjIl_F6F"
      }
    },
    {
      "cell_type": "code",
      "source": [
        "s = ' this is a house built this year.\\n' \t\n",
        "s"
      ],
      "metadata": {
        "colab": {
          "base_uri": "https://localhost:8080/",
          "height": 35
        },
        "id": "3xua0dcf_Mjw",
        "outputId": "78394fd5-3483-40ca-9d1b-fe80eeb5beb5"
      },
      "execution_count": null,
      "outputs": [
        {
          "output_type": "execute_result",
          "data": {
            "text/plain": [
              "' this is a house built this year.\\n'"
            ],
            "application/vnd.google.colaboratory.intrinsic+json": {
              "type": "string"
            }
          },
          "metadata": {},
          "execution_count": 9
        }
      ]
    },
    {
      "cell_type": "markdown",
      "source": [
        "* s는 셀의 맨 마지막 줄에 있을 때 print(s)의 효과가 있음"
      ],
      "metadata": {
        "id": "CGYcGhvs_VPo"
      }
    },
    {
      "cell_type": "code",
      "source": [
        "result = s.find('house')\n",
        "result"
      ],
      "metadata": {
        "colab": {
          "base_uri": "https://localhost:8080/"
        },
        "id": "gdDFzkD5_uDm",
        "outputId": "1821f801-0cc9-4141-e5dd-b93181cf655d"
      },
      "execution_count": null,
      "outputs": [
        {
          "output_type": "execute_result",
          "data": {
            "text/plain": [
              "11"
            ]
          },
          "metadata": {},
          "execution_count": 10
        }
      ]
    },
    {
      "cell_type": "markdown",
      "source": [
        "* 의미: s에서 house를 찾아서 처음 나오는 곳을 숫자로 result해라"
      ],
      "metadata": {
        "id": "swEHCExYAFNE"
      }
    },
    {
      "cell_type": "code",
      "source": [
        "s = s.strip()      \t          # a copy of s without leading or trailing whitespace\n",
        "s"
      ],
      "metadata": {
        "colab": {
          "base_uri": "https://localhost:8080/",
          "height": 35
        },
        "id": "V8Cw-az_ANMJ",
        "outputId": "4be95cbb-f998-431e-bec7-87ff84be95dc"
      },
      "execution_count": null,
      "outputs": [
        {
          "output_type": "execute_result",
          "data": {
            "text/plain": [
              "'this is a house built this year.'"
            ],
            "application/vnd.google.colaboratory.intrinsic+json": {
              "type": "string"
            }
          },
          "metadata": {},
          "execution_count": 11
        }
      ]
    },
    {
      "cell_type": "markdown",
      "source": [
        "* strip: 문장 부호, space들을 없애라"
      ],
      "metadata": {
        "id": "AIh_uNjNAPus"
      }
    },
    {
      "cell_type": "code",
      "source": [
        "tokens = s.split(' ')\t        # split s into a list wherever a t is found (whitespace by default)\n",
        "tokens"
      ],
      "metadata": {
        "colab": {
          "base_uri": "https://localhost:8080/"
        },
        "id": "9ukJwSowAXVW",
        "outputId": "0efe8317-1229-4748-9367-84f2013bc42f"
      },
      "execution_count": null,
      "outputs": [
        {
          "output_type": "execute_result",
          "data": {
            "text/plain": [
              "['this', 'is', 'a', 'house', 'built', 'this', 'year.']"
            ]
          },
          "metadata": {},
          "execution_count": 12
        }
      ]
    },
    {
      "cell_type": "markdown",
      "source": [
        "* split: input으로 single quote, 빈칸을 입력받음 (빈칸도 character임) -> 빈칸을 중심으로 쪼개어 list로 만들어라"
      ],
      "metadata": {
        "id": "d-dxM5MSAYt6"
      }
    },
    {
      "cell_type": "code",
      "source": [
        "s = ' '.join(tokens)\t        # combine the words of the text into a string using s as the glue\n",
        "s"
      ],
      "metadata": {
        "colab": {
          "base_uri": "https://localhost:8080/",
          "height": 35
        },
        "id": "TnPuB7rHA3Bh",
        "outputId": "f4fd9df4-c7ad-4d9c-d0ce-e01e5e24f19d"
      },
      "execution_count": null,
      "outputs": [
        {
          "output_type": "execute_result",
          "data": {
            "text/plain": [
              "'this is a house built this year.'"
            ],
            "application/vnd.google.colaboratory.intrinsic+json": {
              "type": "string"
            }
          },
          "metadata": {},
          "execution_count": 13
        }
      ]
    },
    {
      "cell_type": "markdown",
      "source": [
        "* 다시 빈칸을 이용하여 join -> 원상복귀"
      ],
      "metadata": {
        "id": "ljUM2FRhA5ou"
      }
    },
    {
      "cell_type": "code",
      "source": [
        "s = s.replace('this', 'that') # replace instances of t with u inside s\n",
        "s"
      ],
      "metadata": {
        "colab": {
          "base_uri": "https://localhost:8080/",
          "height": 35
        },
        "id": "iXfqNfvaA96w",
        "outputId": "646fa68e-c499-4edd-e8c2-3f5ff2868b93"
      },
      "execution_count": null,
      "outputs": [
        {
          "output_type": "execute_result",
          "data": {
            "text/plain": [
              "'that is a house built that year.'"
            ],
            "application/vnd.google.colaboratory.intrinsic+json": {
              "type": "string"
            }
          },
          "metadata": {},
          "execution_count": 14
        }
      ]
    },
    {
      "cell_type": "markdown",
      "source": [
        "* relace: this를 that으로 바꾸어라"
      ],
      "metadata": {
        "id": "NAigJ19rBBB1"
      }
    },
    {
      "cell_type": "code",
      "source": [
        "a = [1, 2, 3, 4]\n",
        "for i in a:\n",
        "    print(i)"
      ],
      "metadata": {
        "colab": {
          "base_uri": "https://localhost:8080/"
        },
        "id": "AVgjQIoIBKZU",
        "outputId": "2fcf4358-271c-48eb-b78f-08fc70dea378"
      },
      "execution_count": null,
      "outputs": [
        {
          "output_type": "stream",
          "name": "stdout",
          "text": [
            "1\n",
            "2\n",
            "3\n",
            "4\n"
          ]
        }
      ]
    },
    {
      "cell_type": "markdown",
      "source": [
        "# syntax"
      ],
      "metadata": {
        "id": "FafTRIKbOVQQ"
      }
    },
    {
      "cell_type": "markdown",
      "source": [
        "* [1,2,3,4] = for loop 하라는 뜻으로 rang(4)와 같음"
      ],
      "metadata": {
        "id": "cH25fqh0BxEH"
      }
    },
    {
      "cell_type": "code",
      "source": [
        "a = 0\n",
        "if a == 0:\n",
        "    print(a)\n",
        "else:\n",
        "    print(a+1)"
      ],
      "metadata": {
        "colab": {
          "base_uri": "https://localhost:8080/"
        },
        "id": "FQSOUoIGCGTc",
        "outputId": "6b2eb42f-3d5e-4a5b-a56f-532e12f75ac5"
      },
      "execution_count": null,
      "outputs": [
        {
          "output_type": "stream",
          "name": "stdout",
          "text": [
            "0\n"
          ]
        }
      ]
    },
    {
      "cell_type": "markdown",
      "source": [
        "* eqaul 기호는 ==, if a가 0과 같다면 a를 print하고 else(그렇지 않다면) 라면 a+1\n",
        "* 아니라면 기호: !="
      ],
      "metadata": {
        "id": "3ObONAfxCWEO"
      }
    },
    {
      "cell_type": "code",
      "source": [
        "for i in range(1, 3):\n",
        "    for j in range(3, 5):\n",
        "        print(i*j)"
      ],
      "metadata": {
        "colab": {
          "base_uri": "https://localhost:8080/"
        },
        "id": "gcfyOGSYCreH",
        "outputId": "5cdfba22-d3d1-4fe2-bcea-170853eaa353"
      },
      "execution_count": null,
      "outputs": [
        {
          "output_type": "stream",
          "name": "stdout",
          "text": [
            "3\n",
            "4\n",
            "6\n",
            "8\n"
          ]
        }
      ]
    },
    {
      "cell_type": "markdown",
      "source": [
        "* for을 중첩해서 쓰는 경우의 순서: 1x3 -> 1x4 -> 2x3 -> 2*4 = 3,4,6,8"
      ],
      "metadata": {
        "id": "JGQsRhg8Cw_n"
      }
    },
    {
      "cell_type": "code",
      "source": [
        "a = [1, 2, 3, 4]\n",
        "b = [i for i in a if i >=2]\n",
        "b"
      ],
      "metadata": {
        "colab": {
          "base_uri": "https://localhost:8080/"
        },
        "id": "4rJInMJkDxsd",
        "outputId": "9039f13d-eafb-4ea9-9ca1-522a37131c49"
      },
      "execution_count": null,
      "outputs": [
        {
          "output_type": "execute_result",
          "data": {
            "text/plain": [
              "[2, 3, 4]"
            ]
          },
          "metadata": {},
          "execution_count": 4
        }
      ]
    },
    {
      "cell_type": "markdown",
      "source": [
        "* list comprehension: list안에 for과 if가 포함되어 있는 것\n",
        "\n",
        "=> i로 a의 값을 받은 뒤 if로 실행하여 참일 때 b를 print"
      ],
      "metadata": {
        "id": "vLYHBbRDD1SQ"
      }
    },
    {
      "cell_type": "code",
      "source": [
        "a = ['red', 'green', 'blue', 'purple']\n",
        "b = [1, 2, 3, 4]\n",
        "c = {a[i]:b[i] for i in range(4)}\n",
        "c"
      ],
      "metadata": {
        "colab": {
          "base_uri": "https://localhost:8080/"
        },
        "id": "frxPaSM9ETN6",
        "outputId": "e703a71e-4db3-4dfc-aef0-55987fa0a12a"
      },
      "execution_count": null,
      "outputs": [
        {
          "output_type": "execute_result",
          "data": {
            "text/plain": [
              "{'blue': 3, 'green': 2, 'purple': 4, 'red': 1}"
            ]
          },
          "metadata": {},
          "execution_count": 5
        }
      ]
    },
    {
      "cell_type": "markdown",
      "source": [
        "* dict comprehension: dict (중괄호) 안에 for 가 잇는 경우 -> range (4) = [0,1,2,3]이 i로 받아져서 {a[0]:b[0], a[1]:b[1] ....}"
      ],
      "metadata": {
        "id": "0YuNTetrEisS"
      }
    },
    {
      "cell_type": "markdown",
      "source": [
        "# function"
      ],
      "metadata": {
        "id": "1qWje2bSOcXE"
      }
    },
    {
      "cell_type": "code",
      "source": [
        "import numpy as np\n",
        "n = np.random.randn(100)"
      ],
      "metadata": {
        "id": "vMaRlOybIbEK"
      },
      "execution_count": null,
      "outputs": []
    },
    {
      "cell_type": "markdown",
      "source": [
        "* import & install & built-in\n",
        "1) install: 유명하지 않은 것들은 install을 먼저한 뒤에 import 해야함\n",
        "2) import: 유명한 것들은 이미 install되어 있어서 import만 시켜주면 됨\n",
        "=> import: package가 설치되어 있더라도 쉽게 바로 쓸 수 있도록 ram에 올려두는 것\n",
        "3) built-in: 이미 기본적으로 내제되어 있는 것"
      ],
      "metadata": {
        "id": "fLJLtippIqgi"
      }
    },
    {
      "cell_type": "markdown",
      "source": [
        "* import numpy => package안에 내부적인 structure가 존재하고, 그 안에 function이 존재함\n",
        "* 따라서 numpy 안에 function을 지정해주어야 함"
      ],
      "metadata": {
        "id": "ruCdfU0YJg84"
      }
    },
    {
      "cell_type": "markdown",
      "source": [
        "* numpy가 길어서 np라고 쓰기도 함"
      ],
      "metadata": {
        "id": "QQztVoEwJu4V"
      }
    },
    {
      "cell_type": "markdown",
      "source": [
        "* N = np. random.randn(100) -> random number을 만드는 함수\n",
        "* randn은 평균값을 0, variation을 1로 하는 function"
      ],
      "metadata": {
        "id": "QB-GlZ_fKQxT"
      }
    },
    {
      "cell_type": "code",
      "source": [
        "import matplotlib\n",
        "matplotlib.pyplot.hist(n)"
      ],
      "metadata": {
        "colab": {
          "base_uri": "https://localhost:8080/",
          "height": 356
        },
        "id": "m_hJjfY8KkYj",
        "outputId": "cf0da957-eaa3-4121-9134-560eb6bf3d98"
      },
      "execution_count": null,
      "outputs": [
        {
          "output_type": "execute_result",
          "data": {
            "text/plain": [
              "(array([ 6.,  9., 15., 16., 14., 16., 16.,  3.,  3.,  2.]),\n",
              " array([-2.08680862, -1.61734129, -1.14787397, -0.67840664, -0.20893931,\n",
              "         0.26052801,  0.72999534,  1.19946266,  1.66892999,  2.13839732,\n",
              "         2.60786464]),\n",
              " <a list of 10 Patch objects>)"
            ]
          },
          "metadata": {},
          "execution_count": 9
        },
        {
          "output_type": "display_data",
          "data": {
            "text/plain": [
              "<Figure size 432x288 with 1 Axes>"
            ],
            "image/png": "[encoded data removed]"
          },
          "metadata": {
            "needs_background": "light"
          }
        }
      ]
    },
    {
      "cell_type": "markdown",
      "source": [
        "* 위의 random number에 맞게 히스토그램을 그려주는 함수"
      ],
      "metadata": {
        "id": "Ndt3CbD8Kmau"
      }
    },
    {
      "cell_type": "code",
      "source": [
        "import matplotlib.pyplot\n",
        "matplotlib.pyplot.hist(n)"
      ],
      "metadata": {
        "colab": {
          "base_uri": "https://localhost:8080/",
          "height": 356
        },
        "id": "UyAVax_SK40c",
        "outputId": "e8c18f93-8a69-429a-d173-614013b2f52e"
      },
      "execution_count": null,
      "outputs": [
        {
          "output_type": "execute_result",
          "data": {
            "text/plain": [
              "(array([ 6.,  9., 15., 16., 14., 16., 16.,  3.,  3.,  2.]),\n",
              " array([-2.08680862, -1.61734129, -1.14787397, -0.67840664, -0.20893931,\n",
              "         0.26052801,  0.72999534,  1.19946266,  1.66892999,  2.13839732,\n",
              "         2.60786464]),\n",
              " <a list of 10 Patch objects>)"
            ]
          },
          "metadata": {},
          "execution_count": 10
        },
        {
          "output_type": "display_data",
          "data": {
            "text/plain": [
              "<Figure size 432x288 with 1 Axes>"
            ],
            "image/png": "[encoded data removed]"
          },
          "metadata": {
            "needs_background": "light"
          }
        }
      ]
    },
    {
      "cell_type": "markdown",
      "source": [
        "* 2)번째 방법: 하위 디렉토리까지 import에 써주는 방식"
      ],
      "metadata": {
        "id": "gC6H3wgVK8TN"
      }
    },
    {
      "cell_type": "code",
      "source": [
        "import matplotlib.pyplot as plt\n",
        "plt.hist(n)"
      ],
      "metadata": {
        "colab": {
          "base_uri": "https://localhost:8080/",
          "height": 356
        },
        "id": "SVRZLb1bLFxZ",
        "outputId": "29469dd7-eff8-46ad-ec80-41f10cb0fbbd"
      },
      "execution_count": null,
      "outputs": [
        {
          "output_type": "execute_result",
          "data": {
            "text/plain": [
              "(array([ 6.,  9., 15., 16., 14., 16., 16.,  3.,  3.,  2.]),\n",
              " array([-2.08680862, -1.61734129, -1.14787397, -0.67840664, -0.20893931,\n",
              "         0.26052801,  0.72999534,  1.19946266,  1.66892999,  2.13839732,\n",
              "         2.60786464]),\n",
              " <a list of 10 Patch objects>)"
            ]
          },
          "metadata": {},
          "execution_count": 11
        },
        {
          "output_type": "display_data",
          "data": {
            "text/plain": [
              "<Figure size 432x288 with 1 Axes>"
            ],
            "image/png": "[encoded data removed]"
          },
          "metadata": {
            "needs_background": "light"
          }
        }
      ]
    },
    {
      "cell_type": "markdown",
      "source": [
        "* 3)번째 방법: 하위 디렉토리까지 import하고 as로 받아주는 방법"
      ],
      "metadata": {
        "id": "tBtapGDGLHDV"
      }
    },
    {
      "cell_type": "code",
      "source": [
        "from matplotlib import pyplot\n",
        "pyplot.hist(n)"
      ],
      "metadata": {
        "colab": {
          "base_uri": "https://localhost:8080/",
          "height": 356
        },
        "id": "pNx-engPLbz_",
        "outputId": "749a99e2-b722-434c-82f0-b5b834c2de07"
      },
      "execution_count": null,
      "outputs": [
        {
          "output_type": "execute_result",
          "data": {
            "text/plain": [
              "(array([ 6.,  9., 15., 16., 14., 16., 16.,  3.,  3.,  2.]),\n",
              " array([-2.08680862, -1.61734129, -1.14787397, -0.67840664, -0.20893931,\n",
              "         0.26052801,  0.72999534,  1.19946266,  1.66892999,  2.13839732,\n",
              "         2.60786464]),\n",
              " <a list of 10 Patch objects>)"
            ]
          },
          "metadata": {},
          "execution_count": 12
        },
        {
          "output_type": "display_data",
          "data": {
            "text/plain": [
              "<Figure size 432x288 with 1 Axes>"
            ],
            "image/png": "[encoded data removed]"
          },
          "metadata": {
            "needs_background": "light"
          }
        }
      ]
    },
    {
      "cell_type": "code",
      "source": [
        "from matplotlib.pyplot import hist\n",
        "hist(n)"
      ],
      "metadata": {
        "colab": {
          "base_uri": "https://localhost:8080/",
          "height": 356
        },
        "id": "1PajPjmmLyFt",
        "outputId": "2ee08bb3-a7c0-49e2-8f5b-bd1a95936d87"
      },
      "execution_count": null,
      "outputs": [
        {
          "output_type": "execute_result",
          "data": {
            "text/plain": [
              "(array([ 6.,  9., 15., 16., 14., 16., 16.,  3.,  3.,  2.]),\n",
              " array([-2.08680862, -1.61734129, -1.14787397, -0.67840664, -0.20893931,\n",
              "         0.26052801,  0.72999534,  1.19946266,  1.66892999,  2.13839732,\n",
              "         2.60786464]),\n",
              " <a list of 10 Patch objects>)"
            ]
          },
          "metadata": {},
          "execution_count": 13
        },
        {
          "output_type": "display_data",
          "data": {
            "text/plain": [
              "<Figure size 432x288 with 1 Axes>"
            ],
            "image/png": "[encoded data removed]"
          },
          "metadata": {
            "needs_background": "light"
          }
        }
      ]
    },
    {
      "cell_type": "markdown",
      "source": [
        "* 4)번째 방법: from으로 improt as를 축약해서 부르는 방법"
      ],
      "metadata": {
        "id": "XAhLABtfLd8D"
      }
    },
    {
      "cell_type": "markdown",
      "source": [
        "# create nd arrays(matrices)"
      ],
      "metadata": {
        "id": "EXx8qubgMHQF"
      }
    },
    {
      "cell_type": "markdown",
      "source": [
        "* matrix: 행렬, 직사각형의 숫자 배열\n",
        "* create nd arrays: n-dimensional array(1d, 2d, 3d, ....)"
      ],
      "metadata": {
        "id": "j7SojxA7MUze"
      }
    },
    {
      "cell_type": "code",
      "source": [
        "import numpy as np"
      ],
      "metadata": {
        "id": "hpImWNXlMPU4"
      },
      "execution_count": null,
      "outputs": []
    },
    {
      "cell_type": "code",
      "source": [
        "x = np.array([1,2,3])\n",
        "print(x)\n",
        "print(type(x))\n",
        "print(x.shape)"
      ],
      "metadata": {
        "colab": {
          "base_uri": "https://localhost:8080/"
        },
        "id": "KdQWkaqwMRza",
        "outputId": "8224e1f2-d4a1-4a8d-8fc7-6d304958ecaf"
      },
      "execution_count": null,
      "outputs": [
        {
          "output_type": "stream",
          "name": "stdout",
          "text": [
            "[1 2 3]\n",
            "<class 'numpy.ndarray'>\n",
            "(3,)\n"
          ]
        }
      ]
    },
    {
      "cell_type": "markdown",
      "source": [
        "= 3개짜리 1d array = (3,)"
      ],
      "metadata": {
        "id": "i4mrp00cMTUO"
      }
    },
    {
      "cell_type": "code",
      "source": [
        "x = np.arange(0,10,2)\n",
        "print(x)\n",
        "print(type(x))\n",
        "print(x.shape)"
      ],
      "metadata": {
        "colab": {
          "base_uri": "https://localhost:8080/"
        },
        "id": "Dt9dcZheMpgo",
        "outputId": "9aa190b3-778e-46d1-bebd-30f519f1ff32"
      },
      "execution_count": null,
      "outputs": [
        {
          "output_type": "stream",
          "name": "stdout",
          "text": [
            "[0 2 4 6 8]\n",
            "<class 'numpy.ndarray'>\n",
            "(5,)\n"
          ]
        }
      ]
    },
    {
      "cell_type": "markdown",
      "source": [
        "* arrange: 0을 포함해서 2씩 증가한 10보다 작은 range -> 5개의 item이 들어있는 1d array"
      ],
      "metadata": {
        "id": "P7ozxz8wMr2u"
      }
    },
    {
      "cell_type": "code",
      "source": [
        "x = np.linspace(0,10,6)\n",
        "print(x)\n",
        "print(type(x))\n",
        "print(x.shape)"
      ],
      "metadata": {
        "colab": {
          "base_uri": "https://localhost:8080/"
        },
        "id": "Ba7zgOUgM2g3",
        "outputId": "cc5c3181-363c-4905-cb8e-f064f0612e13"
      },
      "execution_count": null,
      "outputs": [
        {
          "output_type": "stream",
          "name": "stdout",
          "text": [
            "[ 0.  2.  4.  6.  8. 10.]\n",
            "<class 'numpy.ndarray'>\n",
            "(6,)\n"
          ]
        }
      ]
    },
    {
      "cell_type": "markdown",
      "source": [
        "* linspace: linear space, 0부터 10까지 (10을 포함함)등분해서 총 6개의 숫자를 만들어라 -> 6개의 item이 들어있는 1d array"
      ],
      "metadata": {
        "id": "Z6EgrMYqM4j8"
      }
    },
    {
      "cell_type": "code",
      "source": [
        "x = np.array([[1,2,3], [4,5,6]])\n",
        "print(x)\n",
        "print(type(x))\n",
        "print(x.shape)"
      ],
      "metadata": {
        "colab": {
          "base_uri": "https://localhost:8080/"
        },
        "id": "G_5XleuINFbX",
        "outputId": "340b3d6d-641c-42f5-96d4-23ad256ab344"
      },
      "execution_count": null,
      "outputs": [
        {
          "output_type": "stream",
          "name": "stdout",
          "text": [
            "[[1 2 3]\n",
            " [4 5 6]]\n",
            "<class 'numpy.ndarray'>\n",
            "(2, 3)\n"
          ]
        }
      ]
    },
    {
      "cell_type": "markdown",
      "source": [
        "= 1,2,3\n",
        "  4,5,6 형태의 2d array\n",
        "  (2,3) -> row 2개, column 3개"
      ],
      "metadata": {
        "id": "Sq8267QyNHRR"
      }
    },
    {
      "cell_type": "code",
      "source": [
        "x = np.array([[[1,2,3], [4,5,6]], [[7,8,9], [10,11,12]]])\n",
        "print(x)\n",
        "print(type(x))\n",
        "print(x.shape)"
      ],
      "metadata": {
        "colab": {
          "base_uri": "https://localhost:8080/"
        },
        "id": "K4DMQ57-NU-s",
        "outputId": "1bf8f44c-6591-459f-c10a-c089ec0366d3"
      },
      "execution_count": null,
      "outputs": [
        {
          "output_type": "stream",
          "name": "stdout",
          "text": [
            "[[[ 1  2  3]\n",
            "  [ 4  5  6]]\n",
            "\n",
            " [[ 7  8  9]\n",
            "  [10 11 12]]]\n",
            "<class 'numpy.ndarray'>\n",
            "(2, 2, 3)\n"
          ]
        }
      ]
    },
    {
      "cell_type": "markdown",
      "source": [
        "* (2, 2, 3): 마지막 3은 한 행에 3개의 숫자, 중간 2는 한개의 덩어리에 총 2개의 층, 앞의 2는 총 2개의 덩어리를 의미\n",
        "* 3d array: 제일 처음과 끝에 있는 대괄호의 개수를 통해 dimension 파악 가능"
      ],
      "metadata": {
        "id": "2Tz3idX_NgF2"
      }
    },
    {
      "cell_type": "code",
      "source": [
        "x = np.ones([2, 2, 3])\n",
        "print(x)\n",
        "print(type(x))\n",
        "print(x.shape)"
      ],
      "metadata": {
        "colab": {
          "base_uri": "https://localhost:8080/"
        },
        "id": "nPhz_2JiN2g6",
        "outputId": "fddc75a9-59bd-4d0d-e7f2-a121d177003d"
      },
      "execution_count": null,
      "outputs": [
        {
          "output_type": "stream",
          "name": "stdout",
          "text": [
            "[[[1. 1. 1.]\n",
            "  [1. 1. 1.]]\n",
            "\n",
            " [[1. 1. 1.]\n",
            "  [1. 1. 1.]]]\n",
            "<class 'numpy.ndarray'>\n",
            "(2, 2, 3)\n"
          ]
        }
      ]
    },
    {
      "cell_type": "markdown",
      "source": [
        "* ones: 2by 2by 3에 1로 채워진 함수"
      ],
      "metadata": {
        "id": "wCnmOrYEN6LW"
      }
    },
    {
      "cell_type": "code",
      "source": [
        "x = np.zeros([2, 2, 3])\n",
        "print(x)\n",
        "print(type(x))\n",
        "print(x.shape)\n",
        "x.reshape(3,2,2)"
      ],
      "metadata": {
        "colab": {
          "base_uri": "https://localhost:8080/"
        },
        "id": "Qa5y3PejN-a5",
        "outputId": "97eabf16-fc39-4959-f017-c60de5bdca52"
      },
      "execution_count": null,
      "outputs": [
        {
          "output_type": "stream",
          "name": "stdout",
          "text": [
            "[[[0. 0. 0.]\n",
            "  [0. 0. 0.]]\n",
            "\n",
            " [[0. 0. 0.]\n",
            "  [0. 0. 0.]]]\n",
            "<class 'numpy.ndarray'>\n",
            "(2, 2, 3)\n"
          ]
        },
        {
          "output_type": "execute_result",
          "data": {
            "text/plain": [
              "array([[[0., 0.],\n",
              "        [0., 0.]],\n",
              "\n",
              "       [[0., 0.],\n",
              "        [0., 0.]],\n",
              "\n",
              "       [[0., 0.],\n",
              "        [0., 0.]]])"
            ]
          },
          "metadata": {},
          "execution_count": 21
        }
      ]
    },
    {
      "cell_type": "markdown",
      "source": [
        "* 1대신 zeros를 활용해 0으로 채울 수 있음"
      ],
      "metadata": {
        "id": "FeLImNQ6OBGz"
      }
    },
    {
      "cell_type": "markdown",
      "source": [
        "# create random numbers"
      ],
      "metadata": {
        "id": "-KtC6DffOHt2"
      }
    },
    {
      "cell_type": "code",
      "source": [
        "np.random.normal(0, 1, [2,3,4])"
      ],
      "metadata": {
        "colab": {
          "base_uri": "https://localhost:8080/"
        },
        "id": "6oaAqZe0Oh80",
        "outputId": "e2722b62-8c98-4e71-f5f0-7f6e17c9aa4f"
      },
      "execution_count": null,
      "outputs": [
        {
          "output_type": "execute_result",
          "data": {
            "text/plain": [
              "array([[[-0.96484701, -0.89418772,  0.84037434,  1.39312477],\n",
              "        [ 1.21111181,  0.05493511,  0.63794306,  0.8902979 ],\n",
              "        [ 0.9222864 , -0.15737589,  0.01333183,  0.78013481]],\n",
              "\n",
              "       [[ 2.31980245,  0.56094259,  0.41679755,  0.8705453 ],\n",
              "        [-0.5546964 ,  2.21704788,  1.8406137 ,  1.64418717],\n",
              "        [ 0.25218839,  1.17131862, -0.03412273,  0.5941085 ]]])"
            ]
          },
          "metadata": {},
          "execution_count": 22
        }
      ]
    },
    {
      "cell_type": "markdown",
      "source": [
        "* normal distribution의 n-d array를 만들어주는 함수\n",
        "* (0, 1, [2,3,4]):0을 평균값으로 1의 variation, 2by 3by 4의 n d-array"
      ],
      "metadata": {
        "id": "mDFJxcNMOjoI"
      }
    },
    {
      "cell_type": "code",
      "source": [
        "import matplotlib.pyplot as plt"
      ],
      "metadata": {
        "id": "W1k4I7sPO2p2"
      },
      "execution_count": null,
      "outputs": []
    },
    {
      "cell_type": "code",
      "source": [
        "x = np.random.normal(0, 1, 100)\n",
        "print(x)\n",
        "plt.hist(x, bins=10)"
      ],
      "metadata": {
        "colab": {
          "base_uri": "https://localhost:8080/",
          "height": 665
        },
        "id": "e6fK8PISO4YG",
        "outputId": "9b81fb3f-5a73-40c2-9cd4-d1d10d14667d"
      },
      "execution_count": null,
      "outputs": [
        {
          "output_type": "stream",
          "name": "stdout",
          "text": [
            "[-0.28072521  0.86162438 -0.952927    1.4891159   0.12932229  0.44413819\n",
            "  0.576027   -0.2836777   0.45041902  0.13013663  0.69068413 -2.83878409\n",
            "  0.16539136  1.99899588 -0.01322944 -0.89837187 -1.00185661  0.05464482\n",
            " -0.36215156 -0.86858883  1.00374898 -1.29007736 -1.0670076  -1.30074459\n",
            "  0.24748136  0.73091212 -0.81839886 -0.21559502  1.1553241  -0.05127045\n",
            "  0.06955131  1.11636144 -1.55734716  1.15814113  0.18801886  1.15782431\n",
            " -0.00795398  1.65071647  0.72799263  0.58760937 -0.40456407 -1.14759281\n",
            "  1.12033819  1.21084952 -0.0406255  -0.37076761 -0.72299358  0.91350468\n",
            " -1.72582905 -0.85877637  0.93383666 -1.31418407  0.02770688 -1.4858423\n",
            "  0.92345829  0.99928712 -1.52530391  1.00130401  0.86188927  0.57701125\n",
            "  0.16952828  0.92486148  1.05161894 -0.12823812  1.13839267 -0.33233093\n",
            " -1.82184071  0.89206008  0.03548683 -0.46861379 -0.00812316  0.33594685\n",
            " -1.05286043 -2.62625223  0.00403551 -1.34670295  0.06528538  1.06259904\n",
            " -0.27503994  1.42851529  0.36177716 -2.05043298 -0.10995006  0.5639155\n",
            "  0.06409117 -0.35627697  1.82721034  0.23592621 -0.01606836 -1.23527676\n",
            " -0.11635819  1.76744298  0.52815595  1.69457549  1.1786021   0.7778566\n",
            "  0.82968657  0.61231095 -0.64480676  1.34581082]\n"
          ]
        },
        {
          "output_type": "execute_result",
          "data": {
            "text/plain": [
              "(array([ 2.,  1.,  5., 10.,  7., 22., 15., 20., 13.,  5.]),\n",
              " array([-2.83878409, -2.35500609, -1.8712281 , -1.3874501 , -0.9036721 ,\n",
              "        -0.4198941 ,  0.06388389,  0.54766189,  1.03143989,  1.51521788,\n",
              "         1.99899588]),\n",
              " <a list of 10 Patch objects>)"
            ]
          },
          "metadata": {},
          "execution_count": 24
        },
        {
          "output_type": "display_data",
          "data": {
            "text/plain": [
              "<Figure size 432x288 with 1 Axes>"
            ],
            "image/png": "[encoded data removed]"
          },
          "metadata": {
            "needs_background": "light"
          }
        }
      ]
    },
    {
      "cell_type": "markdown",
      "source": [
        "* 100개를 입력받고, bins는 통 10개를 의미"
      ],
      "metadata": {
        "id": "1zh5ceGEO6MW"
      }
    },
    {
      "cell_type": "markdown",
      "source": [
        "# generate a sine curve"
      ],
      "metadata": {
        "id": "nPC3ryVvPB7g"
      }
    },
    {
      "cell_type": "code",
      "source": [
        "plt.figure()\n",
        "\n",
        "theta1 = np.linspace(0, 2*np.pi, 100)\n",
        "s1 = np.sin(theta1)\n",
        "theta2 = np.linspace(0, 2*np.pi, 100) + np.pi/2\n",
        "s2 = np.sin(theta2)\n",
        "\n",
        "plt.subplot(2, 1, 1) # (rows, columns, panel number)\n",
        "plt.plot(theta1, s1, '.')\n",
        "plt.subplot(2, 1, 2) # (rows, columns, panel number)\n",
        "plt.plot(theta2, s2, '.')"
      ],
      "metadata": {
        "colab": {
          "base_uri": "https://localhost:8080/",
          "height": 283
        },
        "id": "3lRzhsU1PGl2",
        "outputId": "7eda65e6-018f-4e83-ad7b-cecafef06993"
      },
      "execution_count": null,
      "outputs": [
        {
          "output_type": "execute_result",
          "data": {
            "text/plain": [
              "[<matplotlib.lines.Line2D at 0x7fb21633dcd0>]"
            ]
          },
          "metadata": {},
          "execution_count": 25
        },
        {
          "output_type": "display_data",
          "data": {
            "text/plain": [
              "<Figure size 432x288 with 2 Axes>"
            ],
            "image/png": "[encoded data removed]"
          },
          "metadata": {
            "needs_background": "light"
          }
        }
      ]
    },
    {
      "cell_type": "markdown",
      "source": [
        "* 1) figure: 틀을 잡아주는 함수\n",
        "* 2)  np.linspace(0, 2*np.pi, 100) = 0부터 2pi (360도)까지 100개의 등분\n",
        "* 3) np.linspace(0, 2*np.pi, 100) + np.pi/2 = 360도 + 90도 = 450도까지 100개의 등분\n",
        "\n",
        "* 4) subplot(2,1,1) = 2개의 row, 1개의 column, 1은 사각형 중 1번째에 그려라"
      ],
      "metadata": {
        "id": "mYxpMHp8PMeT"
      }
    },
    {
      "cell_type": "code",
      "source": [
        "np.corrcoef(s1,s2)"
      ],
      "metadata": {
        "colab": {
          "base_uri": "https://localhost:8080/"
        },
        "id": "kpL0TiTHPKss",
        "outputId": "e31bc34d-dc24-41b9-e588-df0b832321a3"
      },
      "execution_count": null,
      "outputs": [
        {
          "output_type": "execute_result",
          "data": {
            "text/plain": [
              "array([[1.00000000e+00, 2.41915449e-17],\n",
              "       [2.41915449e-17, 1.00000000e+00]])"
            ]
          },
          "metadata": {},
          "execution_count": 26
        }
      ]
    },
    {
      "cell_type": "markdown",
      "source": [
        "* 비례 = -1 =< r <= 1 (-는 반, +는 정) => 더 tight하게 서로 상관관계가 높을 수록 r의 절댓값이 1에 가까워짐, 0에 가까울수록 퍼짐\n",
        "* s1은 첫번째 그림의 y값, s2는 두번째 그림의 y값\n",
        "* e-17: 1번째, 4번째 값이 같고 2번째, 3번째 값이 같아서 2번째 값만 보면 됨 = 10의 -17승 = 0 이므로 이 둘을 correlation 시켰을 때 0"
      ],
      "metadata": {
        "id": "jN6EoV1tP_Ms"
      }
    }
  ]
}