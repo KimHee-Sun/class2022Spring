{
  "nbformat": 4,
  "nbformat_minor": 0,
  "metadata": {
    "colab": {
      "name": "20220425.ipynb",
      "provenance": [],
      "authorship_tag": "ABX9TyNabxpKKDgbigv55+Dn9/cZ",
      "include_colab_link": true
    },
    "kernelspec": {
      "name": "python3",
      "display_name": "Python 3"
    },
    "language_info": {
      "name": "python"
    }
  },
  "cells": [
    {
      "cell_type": "markdown",
      "metadata": {
        "id": "view-in-github",
        "colab_type": "text"
      },
      "source": [
        "<a href=\"https://colab.research.google.com/github/KimHee-Sun/class2022Spring/blob/main/20220425.ipynb\" target=\"_parent\"><img src=\"https://colab.research.google.com/assets/colab-badge.svg\" alt=\"Open In Colab\"/></a>"
      ]
    },
    {
      "cell_type": "markdown",
      "source": [
        "- Auto correlation\n",
        "\n",
        "의미: 자기상관함수로, 자기 자신의 데이터에 대해서 한 것, 시간항에 대해서 shifted 된 자기 자신에 대해서 correlation 한 것이기 때문에 auto correlation이라고 함\n",
        "\n",
        "- RMS\n",
        "\n",
        "의미:루트 평균 제곱 오차로, MSE라는 오차의 제곱에 대해 평균을 취한 것에 제곱근을 씌운 값임. 지표 자체가 직관적이며, RMS가 좋다는 것은 정밀도가 높다는 것을 의미함"
      ],
      "metadata": {
        "id": "E7ZJNrV5Ie7n"
      }
    }
  ]
}