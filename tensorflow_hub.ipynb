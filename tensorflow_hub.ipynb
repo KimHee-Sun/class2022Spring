{
  "nbformat": 4,
  "nbformat_minor": 0,
  "metadata": {
    "colab": {
      "name": "tensorflow_hub.ipynb",
      "provenance": [],
      "include_colab_link": true
    },
    "kernelspec": {
      "name": "python3",
      "display_name": "Python 3"
    },
    "language_info": {
      "name": "python"
    }
  },
  "cells": [
    {
      "cell_type": "markdown",
      "metadata": {
        "id": "view-in-github",
        "colab_type": "text"
      },
      "source": [
        "<a href=\"https://colab.research.google.com/github/KimHee-Sun/class2022Spring/blob/main/tensorflow_hub.ipynb\" target=\"_parent\"><img src=\"https://colab.research.google.com/assets/colab-badge.svg\" alt=\"Open In Colab\"/></a>"
      ]
    },
    {
      "cell_type": "markdown",
      "source": [
        "### [Tensorflow Hub](https://www.tensorflow.org/hub)\n",
        "\n",
        "- 입력 벡터 -> 행렬 -> 출력벡터로 하나의 model을 만들게 될 때 입출력에 대해 dataset이 마련이 되어야 함 (언제든 지 입력이 되면 답을 맞출 수 있도록 중간 행렬이 훈련이 되는 것)\n",
        "- fine-tuning을 한다: 훈련된 (pre trained)된 모델이 있다고 한다면, 다른 data를 가져와서 model을 확장시킬 수 있음\n",
        "\n",
        "결론:pre trained는 기존 data로 어떤 사람이 훈련시킨 것이고, fine-tuning은 나의 data로 확장시킨 것 (코끼리 사진을 넣어주면, 코끼리라고 text)"
      ],
      "metadata": {
        "id": "8dnF4rJPatAo"
      }
    },
    {
      "cell_type": "markdown",
      "source": [
        "### image classification (e.g. [inception_v3](https://tfhub.dev/google/imagenet/inception_v3/classification/5))"
      ],
      "metadata": {
        "id": "soPd171Hbbma"
      }
    },
    {
      "cell_type": "code",
      "source": [
        "import tensorflow.compat.v2 as tf\n",
        "import tensorflow_hub as hub"
      ],
      "metadata": {
        "id": "VIJXaAwQ9lXX"
      },
      "execution_count": 1,
      "outputs": []
    },
    {
      "cell_type": "code",
      "source": [
        "model = hub.KerasLayer(\"https://tfhub.dev/google/imagenet/inception_v3/classification/5\")\n",
        "#model을 url로 해서 받아주면 됨"
      ],
      "metadata": {
        "id": "vmzDkBCZZMF-"
      },
      "execution_count": 2,
      "outputs": []
    },
    {
      "cell_type": "code",
      "source": [
        "from PIL import Image\n",
        "import requests\n",
        "url = 'http://images.cocodataset.org/val2017/000000039769.jpg'\n",
        "image = Image.open(requests.get(url, stream=True).raw)"
      ],
      "metadata": {
        "id": "f3ztc_fNX79F"
      },
      "execution_count": 4,
      "outputs": []
    },
    {
      "cell_type": "code",
      "source": [
        "import numpy as np\n",
        "image = np.array(image)\n",
        "#Image가 숫자로 들어와있음"
      ],
      "metadata": {
        "id": "Bqm9LV1rC4eK"
      },
      "execution_count": 8,
      "outputs": []
    },
    {
      "cell_type": "code",
      "source": [
        "#reshape into shape [batch_size, height, width, num_channels]\n",
        "image = tf.reshape(image, [1, image.shape[0], image.shape[1], image.shape[2]])\n",
        "#reshpae로 3차원을 4차원으로 바꿔주는 것\n",
        "#1은 이미지가 하나라는 의미, 두개면 0, 1로 해주면 됨"
      ],
      "metadata": {
        "id": "xEBZLq5T9uxx"
      },
      "execution_count": null,
      "outputs": []
    },
    {
      "cell_type": "code",
      "source": [
        "#Use 'convert_image_dtype' to convert to floats in the[0,1] range.\n",
        "image = tf.image.convert_image_dtype(image, tf.float32)\n",
        "#0,1의 범위로 바꿔주는 것 (0이 검정, 1이 흰)\n",
        "#숫자가 range로 바귀어 있을 것"
      ],
      "metadata": {
        "id": "T4ZWxwmO96t4"
      },
      "execution_count": 14,
      "outputs": []
    },
    {
      "cell_type": "markdown",
      "source": [
        ""
      ],
      "metadata": {
        "id": "GxFetpV39xtg"
      }
    },
    {
      "cell_type": "code",
      "source": [
        "logits = model(image)\n",
        "#이 model 안에 행렬이 들어 있는 것, 입력벡터로 image를 넣어주는 것\n",
        "np.argmax(logits)\n",
        "#어떤 것이 가장 높은 값인가? 사용된 lable (강아지 사진 - 강아지, 꽃, 등등)이 1,000개인데 이 중 282번 째 것이 가장 확률이 높다"
      ],
      "metadata": {
        "id": "CRUy_pik9m3o"
      },
      "execution_count": null,
      "outputs": []
    },
    {
      "cell_type": "markdown",
      "source": [
        "> https://storage.googleapis.com/download.tensorflow.org/data/ImageNetLabels.txt"
      ],
      "metadata": {
        "id": "p7zLDQqWaGii"
      }
    }
  ]
}